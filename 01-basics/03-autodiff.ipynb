{
  "nbformat": 4,
  "nbformat_minor": 0,
  "metadata": {
    "colab": {
      "provenance": []
    },
    "kernelspec": {
      "name": "python3",
      "display_name": "Python 3"
    },
    "language_info": {
      "name": "python"
    }
  },
  "cells": [
    {
      "cell_type": "markdown",
      "source": [
        "# Gradients and Automatic Differentiation\n",
        "\n",
        "Resource: [TensorFlow Guide](https://www.tensorflow.org/guide/autodiff)"
      ],
      "metadata": {
        "id": "qnM_bZn6HhIy"
      }
    },
    {
      "cell_type": "markdown",
      "source": [
        "Automatic differentiation is useful for implementing machine learning algorithms such as backpropagation for training neural networks.\n",
        "\n",
        "In this guide, you will explore ways to compute gradients with TensorFlow, especially in eager execution."
      ],
      "metadata": {
        "id": "-YFhvG-9eHg9"
      }
    },
    {
      "cell_type": "code",
      "execution_count": null,
      "metadata": {
        "id": "QVoBMsc6HTSC"
      },
      "outputs": [],
      "source": [
        "import numpy as np\n",
        "import matplotlib.pyplot as plt\n",
        "\n",
        "import tensorflow as tf"
      ]
    },
    {
      "cell_type": "markdown",
      "source": [
        "## Computing Gradients\n",
        "\n",
        "To differentiate automatically, TensorFlow needs to remember what operations happen in what order during the forward pass. Then, during the backward pass, TensorFlow traverses this list of operations in reverse order to compute gradients.\n",
        "\n",
        "TensorFlow provides the tf.GradientTape API for automatic differentiation; that is, computing the gradient of a computation with respect to some inputs, usually tf.Variables. TensorFlow \"records\" relevant operations executed inside the context of a tf.GradientTape onto a \"tape\". TensorFlow then uses that tape to compute the gradients of a \"recorded\" computation using reverse mode differentiation."
      ],
      "metadata": {
        "id": "umlsh3C_eRI9"
      }
    },
    {
      "cell_type": "markdown",
      "source": [
        "### Gradients on scalar"
      ],
      "metadata": {
        "id": "xg5PoeUyfUmX"
      }
    },
    {
      "cell_type": "code",
      "source": [
        "x = tf.Variable(3.0)\n",
        "\n",
        "# record relevant operations inside tf.GradientTape\n",
        "with tf.GradientTape() as tape:\n",
        "  y = x**2\n",
        "\n",
        "# calculate the gradient of some target relative to some source\n",
        "dy_dx = tape.gradient(y, x)\n",
        "dy_dx.numpy()"
      ],
      "metadata": {
        "colab": {
          "base_uri": "https://localhost:8080/"
        },
        "id": "xy7poliheKKT",
        "outputId": "44a55a53-c8bc-4e5f-db6a-191443a4b238"
      },
      "execution_count": null,
      "outputs": [
        {
          "output_type": "execute_result",
          "data": {
            "text/plain": [
              "6.0"
            ]
          },
          "metadata": {},
          "execution_count": 3
        }
      ]
    },
    {
      "cell_type": "markdown",
      "source": [
        "### Gradients on tensors"
      ],
      "metadata": {
        "id": "vBAcaK9vfWux"
      }
    },
    {
      "cell_type": "code",
      "source": [
        "w = tf.Variable(tf.random.normal((4, 3)), name = 'w')\n",
        "b = tf.Variable(tf.zeros(3, dtype = tf.float32), name = 'b')\n",
        "x = [[1., 2., 3., 4.]]\n",
        "\n",
        "with tf.GradientTape(persistent = True) as tape:\n",
        "  y = x @ w + b\n",
        "  loss = tf.reduce_mean(y ** 2)\n",
        "\n",
        "dl_dw, dl_db = tape.gradient(loss, (w, b))"
      ],
      "metadata": {
        "id": "Ypk9rLgCerEX"
      },
      "execution_count": null,
      "outputs": []
    },
    {
      "cell_type": "code",
      "source": [
        "print(dl_dw)\n",
        "print(dl_db)"
      ],
      "metadata": {
        "colab": {
          "base_uri": "https://localhost:8080/"
        },
        "id": "cm1nLAlLgSQ9",
        "outputId": "93e4bc46-0f44-4daa-db93-9e9eed2fa1f6"
      },
      "execution_count": null,
      "outputs": [
        {
          "output_type": "stream",
          "name": "stdout",
          "text": [
            "tf.Tensor(\n",
            "[[ -0.39602327  -7.984413     7.115556  ]\n",
            " [ -0.79204655 -15.968826    14.231112  ]\n",
            " [ -1.1880698  -23.95324     21.346668  ]\n",
            " [ -1.5840931  -31.937653    28.462223  ]], shape=(4, 3), dtype=float32)\n",
            "tf.Tensor([-0.39602327 -7.984413    7.115556  ], shape=(3,), dtype=float32)\n"
          ]
        }
      ]
    },
    {
      "cell_type": "code",
      "source": [
        "grad = tape.gradient(loss, {'w': w, 'b': b})\n",
        "\n",
        "print(grad['w'])\n",
        "print(grad['b'])"
      ],
      "metadata": {
        "colab": {
          "base_uri": "https://localhost:8080/"
        },
        "id": "QogDnNy0gYji",
        "outputId": "7bcd24d3-ca9d-42fc-d2d0-dd4ba4b689a8"
      },
      "execution_count": null,
      "outputs": [
        {
          "output_type": "stream",
          "name": "stdout",
          "text": [
            "tf.Tensor(\n",
            "[[ -0.39602327  -7.984413     7.115556  ]\n",
            " [ -0.79204655 -15.968826    14.231112  ]\n",
            " [ -1.1880698  -23.95324     21.346668  ]\n",
            " [ -1.5840931  -31.937653    28.462223  ]], shape=(4, 3), dtype=float32)\n",
            "tf.Tensor([-0.39602327 -7.984413    7.115556  ], shape=(3,), dtype=float32)\n"
          ]
        }
      ]
    },
    {
      "cell_type": "markdown",
      "source": [
        "### Gradients on a model"
      ],
      "metadata": {
        "id": "ZE9HlbqjhDa-"
      }
    },
    {
      "cell_type": "code",
      "source": [
        "layer = tf.keras.layers.Dense(2, activation = 'relu')\n",
        "x = tf.constant([[1., 2., 3., 4.]])\n",
        "\n",
        "with tf.GradientTape() as tape:\n",
        "  y = layer(x)\n",
        "  loss = tf.reduce_mean(y**2)\n",
        "\n",
        "grad = tape.gradient(loss, layer.trainable_variables)"
      ],
      "metadata": {
        "id": "t3QkQtHTgpJJ"
      },
      "execution_count": null,
      "outputs": []
    },
    {
      "cell_type": "code",
      "source": [
        "for var, g in zip(layer.trainable_variables, grad):\n",
        "  print(f'{var.name}')\n",
        "  print(f'{g}\\n\\n')"
      ],
      "metadata": {
        "colab": {
          "base_uri": "https://localhost:8080/"
        },
        "id": "Hc5qQkVkhbWb",
        "outputId": "6e5e7347-7e51-4c4a-98d0-7d8af25b6842"
      },
      "execution_count": null,
      "outputs": [
        {
          "output_type": "stream",
          "name": "stdout",
          "text": [
            "dense/kernel:0\n",
            "[[ 4.7539253  0.       ]\n",
            " [ 9.507851   0.       ]\n",
            " [14.261776   0.       ]\n",
            " [19.015701   0.       ]]\n",
            "\n",
            "\n",
            "dense/bias:0\n",
            "[4.7539253 0.       ]\n",
            "\n",
            "\n"
          ]
        }
      ]
    },
    {
      "cell_type": "markdown",
      "source": [
        "## Controling what to watch\n",
        "\n",
        "The default behavior is to record all operations after accessing a trainable tf.Variable. The reasons for this are:\n",
        "\n",
        "- The tape needs to know which operations to record in the forward pass to calculate the gradients in the backwards pass.\n",
        "- The tape holds references to intermediate outputs, so you don't want to record unnecessary operations.\n",
        "- The most common use case involves calculating the gradient of a loss with respect to all a model's trainable variables.\n"
      ],
      "metadata": {
        "id": "ekYxC0eZh8ij"
      }
    },
    {
      "cell_type": "markdown",
      "source": [
        "### Default behaviour\n",
        "\n",
        "For example, the following fails to calculate a gradient because the tf.Tensor is not \"watched\" by default, and the tf.Variable is not trainable:"
      ],
      "metadata": {
        "id": "2nffo6TijlDa"
      }
    },
    {
      "cell_type": "code",
      "source": [
        "# A trainable variable\n",
        "x0 = tf.Variable(3.0, name='x0')\n",
        "# Not trainable\n",
        "x1 = tf.Variable(3.0, name='x1', trainable=False)\n",
        "# Not a Variable: A variable + tensor returns a tensor.\n",
        "x2 = tf.Variable(2.0, name='x2') + 1.0\n",
        "# Not a variable\n",
        "x3 = tf.constant(3.0, name='x3')\n",
        "\n",
        "with tf.GradientTape() as tape:\n",
        "  y = (x0**2) + (x1**2) + (x2**2) + x3\n",
        "\n",
        "grad = tape.gradient(y, [x0, x1, x2, x3])\n",
        "\n",
        "for g in grad:\n",
        "  print(g)"
      ],
      "metadata": {
        "colab": {
          "base_uri": "https://localhost:8080/"
        },
        "id": "cTLTJyXDhmc3",
        "outputId": "9632a3ce-83a4-449a-9b55-197750195a3e"
      },
      "execution_count": null,
      "outputs": [
        {
          "output_type": "stream",
          "name": "stdout",
          "text": [
            "tf.Tensor(6.0, shape=(), dtype=float32)\n",
            "None\n",
            "None\n",
            "None\n"
          ]
        }
      ]
    },
    {
      "cell_type": "code",
      "source": [
        "[var.name for var in tape.watched_variables()]"
      ],
      "metadata": {
        "colab": {
          "base_uri": "https://localhost:8080/"
        },
        "id": "DV0cLcGgirKQ",
        "outputId": "649d584c-3914-48c9-cce7-a3e7b8cd8374"
      },
      "execution_count": null,
      "outputs": [
        {
          "output_type": "execute_result",
          "data": {
            "text/plain": [
              "['x0:0']"
            ]
          },
          "metadata": {},
          "execution_count": 10
        }
      ]
    },
    {
      "cell_type": "markdown",
      "source": [
        "### Watching a tensor constant"
      ],
      "metadata": {
        "id": "GY4dCTsPjqlG"
      }
    },
    {
      "cell_type": "code",
      "source": [
        "x = tf.constant(5.3)\n",
        "with tf.GradientTape() as tape:\n",
        "  tape.watch(x)\n",
        "  y = x ** 2\n",
        "\n",
        "dy_dx = tape.gradient(y, x)\n",
        "print(dy_dx.numpy())"
      ],
      "metadata": {
        "colab": {
          "base_uri": "https://localhost:8080/"
        },
        "id": "tS52eHmti6Uq",
        "outputId": "7016981f-856d-45f9-df2c-1f724ba545a4"
      },
      "execution_count": null,
      "outputs": [
        {
          "output_type": "stream",
          "name": "stdout",
          "text": [
            "10.6\n"
          ]
        }
      ]
    },
    {
      "cell_type": "markdown",
      "source": [
        "### Disable watching all variables"
      ],
      "metadata": {
        "id": "t9_zEnhDjuDA"
      }
    },
    {
      "cell_type": "code",
      "source": [
        "x0 = tf.Variable(0.)\n",
        "x1 = tf.Variable(10.)\n",
        "\n",
        "with tf.GradientTape(watch_accessed_variables = False) as tape:\n",
        "  y0 = tf.math.sin(x0)\n",
        "  y1 = tf.nn.softplus(x1)\n",
        "  y = y0 + y1 ** 2\n",
        "  ys = tf.reduce_sum(y)\n",
        "\n",
        "grad = tape.gradient(y, {'x0': x0, 'x1': x1})"
      ],
      "metadata": {
        "id": "drRNJ7tEjfbO"
      },
      "execution_count": null,
      "outputs": []
    },
    {
      "cell_type": "code",
      "source": [
        "print(grad)"
      ],
      "metadata": {
        "colab": {
          "base_uri": "https://localhost:8080/"
        },
        "id": "oEIDeai6kP0c",
        "outputId": "ee0eacea-928a-485a-fce1-047cb9b461d4"
      },
      "execution_count": null,
      "outputs": [
        {
          "output_type": "stream",
          "name": "stdout",
          "text": [
            "{'x0': None, 'x1': None}\n"
          ]
        }
      ]
    },
    {
      "cell_type": "code",
      "source": [
        "x0 = tf.Variable(0.0)\n",
        "x1 = tf.Variable(10.0)\n",
        "\n",
        "with tf.GradientTape(watch_accessed_variables=False) as tape:\n",
        "  tape.watch(x1)\n",
        "  y0 = tf.math.sin(x0)\n",
        "  y1 = tf.nn.softplus(x1)\n",
        "  y = y0 + y1\n",
        "  ys = tf.reduce_sum(y)"
      ],
      "metadata": {
        "id": "glk79LABkeik"
      },
      "execution_count": null,
      "outputs": []
    },
    {
      "cell_type": "code",
      "source": [
        "# dys/dx1 = exp(x1) / (1 + exp(x1)) = sigmoid(x1)\n",
        "grad = tape.gradient(ys, {'x0': x0, 'x1': x1})\n",
        "\n",
        "print('dy/dx0:', grad['x0'])\n",
        "print('dy/dx1:', grad['x1'].numpy())"
      ],
      "metadata": {
        "colab": {
          "base_uri": "https://localhost:8080/"
        },
        "id": "ikhLJHOhkWRC",
        "outputId": "6de755a5-a7ac-46e0-cf4e-381bb5bea8f6"
      },
      "execution_count": null,
      "outputs": [
        {
          "output_type": "stream",
          "name": "stdout",
          "text": [
            "dy/dx0: None\n",
            "dy/dx1: 0.9999546\n"
          ]
        }
      ]
    },
    {
      "cell_type": "markdown",
      "source": [
        "### Intermediate Results\n",
        "\n",
        "You can also request gradients of the output with respect to intermediate values computed inside the tf.GradientTape context.\n",
        "\n",
        "By default, the resources held by a GradientTape are released as soon as the GradientTape.gradient method is called. To compute multiple gradients over the same computation, create a gradient tape with persistent=True. This allows multiple calls to the gradient method as resources are released when the tape object is garbage collected."
      ],
      "metadata": {
        "id": "8H-w6Hj5lR0E"
      }
    },
    {
      "cell_type": "code",
      "source": [
        "x = tf.constant([1., 3.])\n",
        "\n",
        "with tf.GradientTape(persistent = True) as tape:\n",
        "  tape.watch(x)\n",
        "  y = x * x\n",
        "  z = 3 * y ** 3\n",
        "\n",
        "print(tape.gradient(z, x))\n",
        "print(tape.gradient(z, y))\n",
        "print(tape.gradient(y, x))\n",
        "\n",
        "del tape"
      ],
      "metadata": {
        "colab": {
          "base_uri": "https://localhost:8080/"
        },
        "id": "fX3iTqqVkeu1",
        "outputId": "78375b9e-369f-4070-ffa5-118c48a0e00e"
      },
      "execution_count": null,
      "outputs": [
        {
          "output_type": "stream",
          "name": "stdout",
          "text": [
            "tf.Tensor([  18. 4374.], shape=(2,), dtype=float32)\n",
            "tf.Tensor([  9. 729.], shape=(2,), dtype=float32)\n",
            "tf.Tensor([2. 6.], shape=(2,), dtype=float32)\n"
          ]
        }
      ]
    },
    {
      "cell_type": "markdown",
      "source": [
        "## Non-scalar targets\n",
        "\n",
        "A gradient is fundamentally an operation on a scalar. Thus, if you ask for the gradient of multiple targets, the result for each source is:\n",
        "\n",
        "- The gradient of the sum of the targets, or equivalently\n",
        "- The sum of the gradients of each target."
      ],
      "metadata": {
        "id": "bMySZFNVni8G"
      }
    },
    {
      "cell_type": "code",
      "source": [
        "x = tf.Variable(2.)\n",
        "with tf.GradientTape(persistent = True) as tape:\n",
        "  y0 = x ** 2\n",
        "  y1 = 1 / x\n",
        "\n",
        "print(tape.gradient(y0, x).numpy())\n",
        "print(tape.gradient(y1, x).numpy())\n",
        "print(tape.gradient({'y0': y0, 'y1': y1}, x).numpy())"
      ],
      "metadata": {
        "colab": {
          "base_uri": "https://localhost:8080/"
        },
        "id": "4X1NoOMomGPj",
        "outputId": "94df994a-a090-4bf0-d3ac-ea858b3e73f3"
      },
      "execution_count": null,
      "outputs": [
        {
          "output_type": "stream",
          "name": "stdout",
          "text": [
            "4.0\n",
            "-0.25\n",
            "3.75\n"
          ]
        }
      ]
    },
    {
      "cell_type": "code",
      "source": [
        "x = tf.Variable(2.)\n",
        "with tf.GradientTape() as tape:\n",
        "  y = x ** 2 *[3., 4.]\n",
        "\n",
        "dy_dx = tape.gradient(y, x)\n",
        "print(dy_dx.numpy())"
      ],
      "metadata": {
        "id": "kuqrHYhpmM7M",
        "colab": {
          "base_uri": "https://localhost:8080/"
        },
        "outputId": "11b45364-0d70-4898-e6bf-e8da2565edb5"
      },
      "execution_count": null,
      "outputs": [
        {
          "output_type": "stream",
          "name": "stdout",
          "text": [
            "28.0\n"
          ]
        }
      ]
    },
    {
      "cell_type": "markdown",
      "source": [
        "For an element-wise calculation, the gradient of the sum gives the derivative of each element with respect to its input-element, since each element is independent."
      ],
      "metadata": {
        "id": "BeTO0BGGqCKM"
      }
    },
    {
      "cell_type": "code",
      "source": [
        "x = tf.linspace(-10.0, 10.0, 200+1)\n",
        "\n",
        "with tf.GradientTape() as tape:\n",
        "  tape.watch(x)\n",
        "  y = tf.nn.sigmoid(x)\n",
        "\n",
        "dy_dx = tape.gradient(y, x)"
      ],
      "metadata": {
        "id": "e02MQNDro0k8"
      },
      "execution_count": null,
      "outputs": []
    },
    {
      "cell_type": "code",
      "source": [
        "plt.plot(x, y, label='y')\n",
        "plt.plot(x, dy_dx, label='dy/dx')\n",
        "plt.legend()"
      ],
      "metadata": {
        "colab": {
          "base_uri": "https://localhost:8080/"
        },
        "id": "4-7OKxuTpIs0",
        "outputId": "1e5670e7-b8f7-47c6-b489-43b3a8dae615"
      },
      "execution_count": null,
      "outputs": [
        {
          "output_type": "execute_result",
          "data": {
            "text/plain": [
              "<matplotlib.legend.Legend at 0x7f1215630a90>"
            ]
          },
          "metadata": {},
          "execution_count": 20
        },
        {
          "output_type": "display_data",
          "data": {
            "text/plain": [
              "<Figure size 640x480 with 1 Axes>"
            ],
            "image/png": "[encoded data removed]"
          },
          "metadata": {}
        }
      ]
    },
    {
      "cell_type": "markdown",
      "source": [
        "## Control Flow\n",
        "\n",
        "Because a gradient tape records operations as they are executed, Python control flow is naturally handled (for example, if and while statements).\n",
        "\n",
        "The control statements themselves are not differentiable, so they are invisible to gradient-based optimizers."
      ],
      "metadata": {
        "id": "L2GtI5IlqEMR"
      }
    },
    {
      "cell_type": "code",
      "source": [
        "x = tf.constant(1.)\n",
        "v0 = tf.Variable(3.)\n",
        "v1 = tf.Variable(2.)\n",
        "\n",
        "with tf.GradientTape(persistent = True) as tape:\n",
        "  tape.watch(x)\n",
        "  if x > 0.0:\n",
        "    y = v0\n",
        "  else:\n",
        "    y = v1 ** 2\n",
        "\n",
        "dy_dx = tape.gradient(y, x)\n",
        "dy_dv = tape.gradient(y, {'v0': v0, 'v1': v1})\n",
        "\n",
        "print(dy_dx)\n",
        "print(dy_dv['v0'])\n",
        "print(dy_dv['v1'])"
      ],
      "metadata": {
        "colab": {
          "base_uri": "https://localhost:8080/"
        },
        "id": "ePeQvRsKpJqM",
        "outputId": "cc8cc660-1075-4e7f-cca2-892796076b6b"
      },
      "execution_count": null,
      "outputs": [
        {
          "output_type": "stream",
          "name": "stdout",
          "text": [
            "None\n",
            "tf.Tensor(1.0, shape=(), dtype=float32)\n",
            "None\n"
          ]
        }
      ]
    },
    {
      "cell_type": "code",
      "source": [
        "x = tf.Variable(2.0)\n",
        "\n",
        "for epoch in range(2):\n",
        "  with tf.GradientTape() as tape:\n",
        "    y = x+1\n",
        "\n",
        "  print(type(x).__name__, \":\", tape.gradient(y, x))\n",
        "  x = x + 1   # This should be `x.assign_add(1)`\n",
        "  # x.assign_add(1)\n",
        "  # x.assign(x + 1)"
      ],
      "metadata": {
        "colab": {
          "base_uri": "https://localhost:8080/"
        },
        "id": "U232wJuLqxx-",
        "outputId": "12874a02-bde0-4d57-91cf-d4cb45d791a7"
      },
      "execution_count": null,
      "outputs": [
        {
          "output_type": "stream",
          "name": "stdout",
          "text": [
            "ResourceVariable : tf.Tensor(1.0, shape=(), dtype=float32)\n",
            "EagerTensor : None\n"
          ]
        }
      ]
    },
    {
      "cell_type": "code",
      "source": [],
      "metadata": {
        "id": "dAjCQex3vR2g"
      },
      "execution_count": null,
      "outputs": []
    }
  ]
}